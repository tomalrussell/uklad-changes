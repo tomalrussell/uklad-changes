{
 "cells": [
  {
   "cell_type": "markdown",
   "metadata": {},
   "source": [
    "# LAD names and codes\n",
    "\n",
    "Local Authority Districts (December 2011) GB BFC (Britain, Full, Clipped)\n",
    "- https://opendata.arcgis.com/datasets/8c398b60a71d44e2bdf8b5b3bb951988_0.zip?outSR=%7B%22wkid%22%3A27700%2C%22latestWkid%22%3A27700%7D\n",
    "    \n",
    "Local Authority Districts (December 2015) Full Clipped Boundaries in Great Britain\n",
    "- https://opendata.arcgis.com/datasets/8edafbe3276d4b56aec60991cbddda50_0.zip?outSR=%7B%22wkid%22%3A27700%2C%22latestWkid%22%3A27700%7D\n",
    "    \n",
    "Local Authority Districts (December 2016) Full Clipped Boundaries in the UK\n",
    "- https://opendata.arcgis.com/datasets/7ff28788e1e640de8150fb8f35703f6e_0.zip?outSR=%7B%22latestWkid%22%3A27700%2C%22wkid%22%3A27700%7D\n",
    "    \n",
    "Local Authority Districts (December 2017) Full Clipped Boundaries in the UK\n",
    "- https://opendata.arcgis.com/datasets/fab4feab211c4899b602ecfbfbc420a3_0.zip?outSR=%7B%22latestWkid%22%3A4326%2C%22wkid%22%3A4326%7D\n",
    "    \n",
    "Local Authority Districts (December 2018) Full Clipped Boundaries UK\n",
    "- https://opendata.arcgis.com/datasets/b2d5f4f8e9eb469bb22af910bdc1de22_0.zip?outSR=%7B%22wkid%22%3A27700%2C%22latestWkid%22%3A27700%7D\n",
    "\n",
    "Local Authorities area list (UK, Census Merged, 2011)\n",
    "- Reference: http://infuse.ukdataservice.ac.uk/help/definitions/2011geographies/index.html\n",
    "- List: http://infuse.ukdataservice.ac.uk/help/definitions/2011geographies/local-authority-area-list2011.csv\n",
    "- Boundaries: https://borders.ukdataservice.ac.uk/ukborders/easy_download/prebuilt/shape/infuse_dist_lyr_2011_clipped.zip\n",
    "\n",
    "\n",
    "Note that Northern Ireland has the largest post-2011 change, with 11 local government districts since 1 April 2015; previously 26 councils since 1973."
   ]
  },
  {
   "cell_type": "code",
   "execution_count": null,
   "metadata": {},
   "outputs": [],
   "source": [
    "import os\n",
    "\n",
    "from glob import iglob\n",
    "from zipfile import ZipFile\n",
    "\n",
    "import geopandas\n",
    "import pandas\n",
    "import requests\n"
   ]
  },
  {
   "cell_type": "code",
   "execution_count": null,
   "metadata": {},
   "outputs": [],
   "source": [
    "sources = [\n",
    "    {\n",
    "        \"key\": \"lad2011\",\n",
    "        \"name\": \"Local Authorities area list for the United Kingdom\",\n",
    "        \"url\": \"https://borders.ukdataservice.ac.uk/ukborders/easy_download/prebuilt/shape/infuse_dist_lyr_2011_clipped.zip\",\n",
    "        \"filename\": \"lad2011.zip\"\n",
    "    },\n",
    "    {\n",
    "        \"key\": \"lad2016\",\n",
    "        \"name\": \"Local Authority Districts (December 2016) Ultra Generalised Clipped Boundaries in the UK\",\n",
    "        \"url\": \"https://opendata.arcgis.com/datasets/7ff28788e1e640de8150fb8f35703f6e_4.zip?outSR=%7B%22latestWkid%22%3A27700%2C%22wkid%22%3A27700%7D\",\n",
    "        \"filename\": \"lad2016.zip\"\n",
    "    },\n",
    "    {\n",
    "        \"key\": \"lad2017\",\n",
    "        \"name\": \"Local Authority Districts (December 2017) Ultra Generalised Clipped Boundaries in the UK\",\n",
    "        \"url\": \"https://opendata.arcgis.com/datasets/fab4feab211c4899b602ecfbfbc420a3_4.zip?outSR=%7B%22latestWkid%22%3A4326%2C%22wkid%22%3A4326%7D\",\n",
    "        \"filename\": \"lad2017.zip\"\n",
    "    },\n",
    "    {\n",
    "        \"key\": \"lad2018\",\n",
    "        \"name\": \"Local Authority Districts (December 2018) Ultra Generalised Clipped Boundaries in the UK\",\n",
    "        \"url\": \"https://opendata.arcgis.com/datasets/fef73aeaf13c417dadf2fc99abcf8eef_0.zip?outSR=%7B%22wkid%22%3A27700%2C%22latestWkid%22%3A27700%7D\",\n",
    "        \"filename\": \"lad2018.zip\"\n",
    "    },\n",
    "    {\n",
    "        \"key\": \"lut2011\",\n",
    "        \"name\": \"Output Area to Lower Layer Super Output Area to Middle Layer Super Output Area to Local Authority District (December 2011) Lookup in England and Wales\",\n",
    "        \"url\": \"https://opendata.arcgis.com/datasets/6ecda95a83304543bc8feedbd1a58303_0.csv\",\n",
    "        \"filename\": \"oa-lad-lookup.csv\"\n",
    "    }\n",
    "]"
   ]
  },
  {
   "cell_type": "code",
   "execution_count": null,
   "metadata": {},
   "outputs": [],
   "source": [
    "def download(item):\n",
    "    if os.path.exists(item['filename']):\n",
    "        print(\"Got\", item['filename'])\n",
    "    else:\n",
    "        print(\"Downloading\", item['filename'])\n",
    "        r = requests.get(item['url'], stream=True)\n",
    "        with open(item['filename'], 'wb') as fh:\n",
    "            for chunk in r.iter_content(chunk_size=8192):\n",
    "                if chunk: # filter out keep-alive new chunks\n",
    "                    fh.write(chunk)"
   ]
  },
  {
   "cell_type": "code",
   "execution_count": null,
   "metadata": {},
   "outputs": [],
   "source": [
    "def extract(item):\n",
    "    if '.zip' in item['filename']:\n",
    "        with ZipFile(item['filename']) as zf:\n",
    "            zf.extractall(item['key'])\n",
    "        fn = next(iglob(os.path.join(item['key'], '*.shp')))\n",
    "        df = geopandas.read_file(fn)\n",
    "    elif '.csv' in item['filename']:\n",
    "        try:\n",
    "            df = pandas.read_csv(item['filename'])\n",
    "        except UnicodeDecodeError:\n",
    "            df = pandas.read_csv(item['filename'], encoding='ISO-8859-1')\n",
    "    else:\n",
    "        df = None\n",
    "    return df"
   ]
  },
  {
   "cell_type": "code",
   "execution_count": null,
   "metadata": {},
   "outputs": [],
   "source": [
    "data = {}\n",
    "for item in sources:\n",
    "    download(item)\n",
    "    data[item['key']] = extract(item)"
   ]
  },
  {
   "cell_type": "code",
   "execution_count": null,
   "metadata": {},
   "outputs": [],
   "source": [
    "lad11cd_to_census_merged_code = {\n",
    "    'E06000052': 'E41000052', # Cornwall\n",
    "    'E06000053': 'E41000052', # Isles of Scilly\n",
    "    \n",
    "    'E09000001': 'E41000324', # City of London\n",
    "    'E09000033': 'E41000324', # Westminster\n",
    "}"
   ]
  },
  {
   "cell_type": "code",
   "execution_count": null,
   "metadata": {},
   "outputs": [],
   "source": [
    "data['lad2011'].head()"
   ]
  },
  {
   "cell_type": "code",
   "execution_count": null,
   "metadata": {},
   "outputs": [],
   "source": [
    "data['lad2011'].rename(columns={\n",
    "    'geo_code': 'lad11cd',\n",
    "    'geo_label': 'lad11nm'\n",
    "}, inplace=True)"
   ]
  },
  {
   "cell_type": "code",
   "execution_count": null,
   "metadata": {},
   "outputs": [],
   "source": [
    "data['lad2011'].lad11nm = data['lad2011'].lad11nm.str.replace('&', 'and')\n",
    "data['lad2011'].lad11cd = data['lad2011'].lad11cd.apply(lambda s: s.strip())"
   ]
  },
  {
   "cell_type": "code",
   "execution_count": null,
   "metadata": {},
   "outputs": [],
   "source": [
    "lad11cd = set(data['lad2011'].lad11cd.unique())\n",
    "lad18cd = set(data['lad2018'].lad18cd.unique())"
   ]
  },
  {
   "cell_type": "code",
   "execution_count": null,
   "metadata": {},
   "outputs": [],
   "source": [
    "subset = (lad11cd - lad18cd).union(lad18cd - lad11cd)\n",
    "subset"
   ]
  },
  {
   "cell_type": "code",
   "execution_count": null,
   "metadata": {},
   "outputs": [],
   "source": [
    "%matplotlib inline"
   ]
  },
  {
   "cell_type": "code",
   "execution_count": null,
   "metadata": {},
   "outputs": [],
   "source": [
    "import matplotlib.pyplot as plt\n",
    "plt.rcParams['figure.figsize'] = [20, 10]"
   ]
  },
  {
   "cell_type": "code",
   "execution_count": null,
   "metadata": {},
   "outputs": [],
   "source": [
    "nidf = data['lad2011'][data['lad2011'].lad11cd.str.startswith('9')].copy()"
   ]
  },
  {
   "cell_type": "code",
   "execution_count": null,
   "metadata": {},
   "outputs": [],
   "source": [
    "nidf['coords'] = nidf['geometry'].apply(lambda x: x.representative_point().coords[:][0])\n",
    "nidf.plot(color='#ccccff', edgecolor='white')\n",
    "for row in nidf.itertuples():\n",
    "    plt.annotate(s=row.lad11nm, xy=row.coords, horizontalalignment='center')"
   ]
  },
  {
   "cell_type": "code",
   "execution_count": null,
   "metadata": {},
   "outputs": [],
   "source": [
    "ni16 = data['lad2016'][data['lad2016'].lad16cd.str.startswith('N')].copy()"
   ]
  },
  {
   "cell_type": "code",
   "execution_count": null,
   "metadata": {},
   "outputs": [],
   "source": [
    "ni16['coords'] = ni16['geometry'].apply(lambda x: x.representative_point().coords[:][0])\n",
    "ni16.plot(color='#ccccff', edgecolor='white')\n",
    "for row in ni16.itertuples():\n",
    "    plt.annotate(s=row.lad16nm, xy=row.coords, horizontalalignment='center')"
   ]
  },
  {
   "cell_type": "code",
   "execution_count": null,
   "metadata": {},
   "outputs": [],
   "source": [
    "ni116 = geopandas.overlay(ni16, nidf, how='intersection')"
   ]
  },
  {
   "cell_type": "code",
   "execution_count": null,
   "metadata": {},
   "outputs": [],
   "source": [
    "ni116.columns"
   ]
  },
  {
   "cell_type": "code",
   "execution_count": null,
   "metadata": {},
   "outputs": [],
   "source": [
    "ni116['area'] = ni116['geometry'].area"
   ]
  },
  {
   "cell_type": "code",
   "execution_count": null,
   "metadata": {},
   "outputs": [],
   "source": [
    "nimapping = ni116[['lad11nm', 'lad11cd', 'lad16nm', 'lad16cd', 'area']].sort_values(['lad11nm', 'area'])\n",
    "# keep max area for each lad11\n",
    "nimapping = nimapping.drop_duplicates(['lad11nm'], keep='last').drop(['area'], axis=1)\n",
    "nimapping"
   ]
  },
  {
   "cell_type": "code",
   "execution_count": null,
   "metadata": {},
   "outputs": [],
   "source": [
    "len(nimapping), len(nidf), len(ni16), len(nimapping.lad16cd.unique())"
   ]
  },
  {
   "cell_type": "code",
   "execution_count": null,
   "metadata": {},
   "outputs": [],
   "source": [
    "def extract_subset(data, year):\n",
    "    df = data['lad20{}'.format(year)]\n",
    "    code = 'lad{}cd'.format(year)\n",
    "    name = 'lad{}nm'.format(year)\n",
    "    return df.loc[df[code].isin(subset)][[code, name]]"
   ]
  },
  {
   "cell_type": "code",
   "execution_count": null,
   "metadata": {},
   "outputs": [],
   "source": [
    "changes = None\n",
    "years = (11, 16, 17, 18)\n",
    "for i, year in enumerate(years):\n",
    "    df = extract_subset(data, year)\n",
    "    if i == 0:\n",
    "        changes = df\n",
    "    elif i == 1:\n",
    "        changes = changes[~changes.lad11cd.str.startswith('9')]\n",
    "        df = df[~df.lad16cd.str.startswith('N')]\n",
    "        changes = changes.merge(\n",
    "            df,\n",
    "            left_on='lad{}nm'.format(years[i-1]), \n",
    "            right_on='lad{}nm'.format(year), \n",
    "            how='outer'\n",
    "        )\n",
    "        changes = pandas.concat([changes, nimapping], axis=0)\n",
    "    else:        \n",
    "        changes = changes.merge(\n",
    "            df,\n",
    "            left_on='lad{}nm'.format(years[i-1]), \n",
    "            right_on='lad{}nm'.format(year), \n",
    "            how='outer'\n",
    "        )\n",
    "changes"
   ]
  },
  {
   "cell_type": "code",
   "execution_count": null,
   "metadata": {},
   "outputs": [],
   "source": [
    "table = None\n",
    "years = (11, 16, 17, 18)\n",
    "for i, year in enumerate(years):\n",
    "    df = data['lad20{}'.format(year)][['lad{}nm'.format(year), 'lad{}cd'.format(year)]]\n",
    "    if i == 0:\n",
    "        table = df\n",
    "    elif i == 1:\n",
    "        table = table[~table.lad11cd.str.startswith('9')]\n",
    "        df = df[~df.lad16cd.str.startswith('N')]\n",
    "        table = table.merge(\n",
    "            df,\n",
    "            left_on='lad{}nm'.format(years[i-1]), \n",
    "            right_on='lad{}nm'.format(year), \n",
    "            how='outer'\n",
    "        )\n",
    "        table = pandas.concat([table, nimapping], axis=0)\n",
    "    else:        \n",
    "        table = table.merge(\n",
    "            df,\n",
    "            left_on='lad{}nm'.format(years[i-1]), \n",
    "            right_on='lad{}nm'.format(year), \n",
    "            how='outer'\n",
    "        )\n",
    "table"
   ]
  },
  {
   "cell_type": "code",
   "execution_count": null,
   "metadata": {},
   "outputs": [],
   "source": [
    "table.to_csv('lad_nmcd_changes.csv')"
   ]
  },
  {
   "cell_type": "code",
   "execution_count": null,
   "metadata": {},
   "outputs": [],
   "source": [
    "lad11cd_to_lad16cd = {\n",
    "    'E06000048': 'E06000057', # Northumberland\n",
    "    'E07000100': 'E07000240', # St Albans\n",
    "    'E07000104': 'E07000241', # Welwyn Hatfield\n",
    "    'E07000097': 'E07000242', # East Hertfordshire\n",
    "    'E07000101': 'E07000243', # Stevenage\n",
    "    'E08000020': 'E08000037', # Gateshead\n",
    "}\n",
    "lad17cd_to_lad18cd = {\n",
    "    'S12000015': 'S12000047', # Fife\n",
    "    'S12000024': 'S12000048', # Perth and Kinross\n",
    "}\n",
    "lad17nm_to_lad18nm = {\n",
    "    'Shepway': 'Folkestone and Hythe' # E07000112\n",
    "}"
   ]
  }
 ],
 "metadata": {
  "kernelspec": {
   "display_name": "Python 3",
   "language": "python",
   "name": "python3"
  },
  "language_info": {
   "codemirror_mode": {
    "name": "ipython",
    "version": 3
   },
   "file_extension": ".py",
   "mimetype": "text/x-python",
   "name": "python",
   "nbconvert_exporter": "python",
   "pygments_lexer": "ipython3",
   "version": "3.6.7"
  }
 },
 "nbformat": 4,
 "nbformat_minor": 2
}
